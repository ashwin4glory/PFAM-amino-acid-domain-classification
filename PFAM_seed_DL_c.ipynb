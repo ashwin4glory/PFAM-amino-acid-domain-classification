{
 "cells": [
  {
   "cell_type": "markdown",
   "metadata": {
    "colab_type": "text",
    "id": "WeLxHq6FQgkl"
   },
   "source": [
    "# <h1><center> PFAM Protein domain Classification </center></h1>"
   ]
  },
  {
   "cell_type": "markdown",
   "metadata": {
    "colab_type": "text",
    "id": "CDv0xSY-2TIk"
   },
   "source": [
    "![protein.png](protein.png)"
   ]
  },
  {
   "cell_type": "markdown",
   "metadata": {
    "colab_type": "text",
    "id": "WBUSOTcBQgg7"
   },
   "source": [
    "## 1. Problem Description"
   ]
  },
  {
   "cell_type": "markdown",
   "metadata": {
    "colab_type": "text",
    "id": "agsbOR3_QgfL"
   },
   "source": [
    "### 1.1 Description"
   ]
  },
  {
   "cell_type": "markdown",
   "metadata": {
    "colab_type": "text",
    "id": "_t90eiYCQgbV"
   },
   "source": [
    "Source: https://www.kaggle.com/googleai/pfam-seed-random-split </br>\n",
    "Data : PFAM seed random split . </br>\n",
    "Download random_split.zip . Which contains train dev and test data files."
   ]
  },
  {
   "cell_type": "markdown",
   "metadata": {
    "colab_type": "text",
    "id": "G7nlprmgQgZ0"
   },
   "source": [
    "- __Problem Statement :__ The task is , given the amino acid sequence of the protein domain, predict which family it belongs to."
   ]
  },
  {
   "cell_type": "markdown",
   "metadata": {
    "colab_type": "text",
    "id": "koOM3YkBQgVi"
   },
   "source": [
    "### 1.2 Source/Useful links"
   ]
  },
  {
   "cell_type": "markdown",
   "metadata": {
    "colab_type": "text",
    "id": "MWBERJyYQgT2"
   },
   "source": [
    "1. https://www.biorxiv.org/content/10.1101/626507v3.full </br>\n",
    "2. https://arxiv.org/pdf/1606.01781.pdf?\n",
    "3. https://www.appliedaicourse.com/lecture/11/applied-machine-learning-online-course/3439/code-example-imdb-sentiment-classification/8/module-8-neural-networks-computer-vision-and-deep-learning"
   ]
  },
  {
   "cell_type": "markdown",
   "metadata": {
    "colab_type": "text",
    "id": "CsAym-YTq5Js"
   },
   "source": [
    "### 1.3 Real world objectives and constraints"
   ]
  },
  {
   "cell_type": "markdown",
   "metadata": {
    "colab_type": "text",
    "id": "d4JFw-JvrGdx"
   },
   "source": [
    "* No low latency requirement.\n",
    "* Interpretability is not important.\n",
    "* Only sequence data is input data "
   ]
  },
  {
   "cell_type": "markdown",
   "metadata": {
    "colab_type": "text",
    "id": "mxI_9iQfrGag"
   },
   "source": [
    "## 2. Deep Learning Problem Formulation"
   ]
  },
  {
   "cell_type": "markdown",
   "metadata": {
    "colab_type": "text",
    "id": "qvd1vKTUrGXK"
   },
   "source": [
    "### 2.1 Data"
   ]
  },
  {
   "cell_type": "markdown",
   "metadata": {
    "colab_type": "text",
    "id": "r379Q3rzrGTx"
   },
   "source": [
    "* This directory contains data to train a model to predict the function of protein domains, based on the PFam dataset.\n",
    "\n",
    "* Domains are functional sub-parts of proteins; much like images in ImageNet are pre segmented to contain exactly one object class, this data is presegmented to contain exactly and only one domain.\n",
    "\n",
    "* The purpose of the dataset is to repose the PFam seed dataset as a multiclass classification machine learning task."
   ]
  },
  {
   "cell_type": "markdown",
   "metadata": {
    "colab_type": "text",
    "id": "ga1ymHvYt0iU"
   },
   "source": [
    "### 2.1.1 Data split and layout : "
   ]
  },
  {
   "cell_type": "markdown",
   "metadata": {
    "colab_type": "text",
    "id": "UYbz6AcfzOMT"
   },
   "source": [
    "The approach used to partition the data into training/dev/testing folds is a random split.\n",
    "\n",
    "* Training data should be used to train your models.\n",
    "* Dev (development) data should be used in a close validation loop (maybe for hyperparameter tuning or model validation).\n",
    "* Test data should be reserved for much less frequent evaluations - this helps avoid overfitting on your test data, as it should only be used infrequently."
   ]
  },
  {
   "cell_type": "markdown",
   "metadata": {
    "colab_type": "text",
    "id": "8zCcBlj8uATG"
   },
   "source": [
    "### 2.1.2 File Content"
   ]
  },
  {
   "cell_type": "markdown",
   "metadata": {
    "colab_type": "text",
    "id": "8ARN9pzo0Z43"
   },
   "source": [
    " Each fold (train, dev, test) has a number of files in it. Each of those files contains csv on each line, which has the following fields:\n",
    "\n",
    "sequence: HWLQMRDSMNTYNNMVNRCFATCIRSFQEKKVNAEEMDCTKRCVTKFVGYSQRVALRFAE \n",
    "family_accession: PF02953.15\n",
    "sequence_name: C5K6N5_PERM5/28-87\n",
    "aligned_sequence: ....HWLQMRDSMNTYNNMVNRCFATCI...........RS.F....QEKKVNAEE.....MDCT....KRCVTKFVGYSQRVALRFAE \n",
    "family_id: zf-Tim10_DDP\n",
    "\n",
    "__Description of fields:__  Sequence: These are usually the input features to your model. Amino acid sequence for this domain. There are 20 very common amino acids (frequency > 1,000,000), and 4 amino acids that are quite uncommon: X, U, B, O, Z.  \n",
    "family_accession: These are usually the labels for your model. Accession number in form PFxxxxx.y (Pfam), where xxxxx is the family accession, and y is the version number. Some values of y are greater than ten, and so 'y' has two digits.  \n",
    "family_id: One word name for family.  \n",
    "sequence_name: Sequence name, in the form \"$uniprotaccession_id/$start_index-$end_index\".  \n",
    "aligned_sequence: Contains a single sequence from the multiple sequence alignment (with the rest of the members of the family in seed, with gaps retained.\n",
    "\n",
    "Generally, the family_accession field is the label, and the sequence (or aligned sequence) is the training feature.\n",
    "\n",
    "This sequence corresponds to a domain, not a full protein."
   ]
  },
  {
   "cell_type": "markdown",
   "metadata": {
    "colab_type": "text",
    "id": "0f5Ftlz20Zkk"
   },
   "source": [
    "### 2.2 Mapping the real world problem to Deep Learning problem"
   ]
  },
  {
   "cell_type": "markdown",
   "metadata": {
    "colab_type": "text",
    "id": "VXVWRU8e2LfU"
   },
   "source": [
    "Since there are 18,000 output classes , so this is a multiclass classification problem"
   ]
  },
  {
   "cell_type": "markdown",
   "metadata": {
    "colab_type": "text",
    "id": "9hD-a0N92LMe"
   },
   "source": [
    "- __Performance Metric :__ We ll be using accuracy as our performance metric."
   ]
  },
  {
   "cell_type": "markdown",
   "metadata": {
    "colab_type": "text",
    "id": "LoBZsSAu2LD5"
   },
   "source": [
    "### 2.3 Deep learning constraints and objectives"
   ]
  },
  {
   "cell_type": "markdown",
   "metadata": {
    "colab_type": "text",
    "id": "k5G6GihqtQyI"
   },
   "source": [
    "__Objective :__ The objective is to predict the family of the given domain of a amino acid using the sequence data posing a multi class classification problem."
   ]
  },
  {
   "cell_type": "markdown",
   "metadata": {
    "colab_type": "text",
    "id": "v-bDVYl1tk-2"
   },
   "source": [
    "__Constraints :__"
   ]
  },
  {
   "cell_type": "markdown",
   "metadata": {
    "colab_type": "text",
    "id": "pKP4SL850Zfz"
   },
   "source": [
    "* No low latency requirement.\n",
    "* Get a decent accuracy.\n",
    "* Use only sequence data as input."
   ]
  },
  {
   "cell_type": "markdown",
   "metadata": {
    "colab_type": "text",
    "id": "xBTCueMwuIvB"
   },
   "source": [
    "## Importing libraries"
   ]
  },
  {
   "cell_type": "code",
   "execution_count": 1,
   "metadata": {
    "colab": {
     "base_uri": "https://localhost:8080/",
     "height": 34
    },
    "colab_type": "code",
    "id": "BgpN8NbQZlR9",
    "outputId": "d8555f7c-a5e8-4e69-bbf6-85af463c8636"
   },
   "outputs": [
    {
     "name": "stderr",
     "output_type": "stream",
     "text": [
      "Using TensorFlow backend.\n"
     ]
    }
   ],
   "source": [
    "%matplotlib inline\n",
    "import warnings\n",
    "warnings.filterwarnings('ignore')\n",
    "\n",
    "import pandas as pd\n",
    "import numpy as np\n",
    "import nltk\n",
    "import string\n",
    "import matplotlib.pyplot as plt\n",
    "from sklearn.feature_extraction.text import CountVectorizer\n",
    "import numpy\n",
    "from keras.models import Sequential\n",
    "from keras.layers import Dense , LSTM\n",
    "from keras.layers.embeddings import Embedding\n",
    "from keras.preprocessing import sequence\n",
    "# fix random seed for reproducibility\n",
    "numpy.random.seed(7)\n",
    "from os import listdir\n",
    "from tqdm import tqdm\n",
    "#Supress scientific notation\n",
    "pd.options.display.float_format = '{:20,.2f}'.format\n",
    "import os\n",
    "import seaborn as sns"
   ]
  },
  {
   "cell_type": "markdown",
   "metadata": {
    "colab_type": "text",
    "id": "Kcrc5xdiZlSH"
   },
   "source": [
    "## Loading the Data"
   ]
  },
  {
   "cell_type": "code",
   "execution_count": 2,
   "metadata": {
    "colab": {
     "base_uri": "https://localhost:8080/",
     "height": 122
    },
    "colab_type": "code",
    "id": "7jH_Ear1g43p",
    "outputId": "7b4e62b2-6ff5-4aca-8fc4-88b93980f33e"
   },
   "outputs": [
    {
     "name": "stdout",
     "output_type": "stream",
     "text": [
      "Go to this URL in a browser: https://accounts.google.com/o/oauth2/auth?client_id=947318989803-6bn6qk8qdgf4n4g3pfee6491hc0brc4i.apps.googleusercontent.com&redirect_uri=urn%3Aietf%3Awg%3Aoauth%3A2.0%3Aoob&scope=email%20https%3A%2F%2Fwww.googleapis.com%2Fauth%2Fdocs.test%20https%3A%2F%2Fwww.googleapis.com%2Fauth%2Fdrive%20https%3A%2F%2Fwww.googleapis.com%2Fauth%2Fdrive.photos.readonly%20https%3A%2F%2Fwww.googleapis.com%2Fauth%2Fpeopleapi.readonly&response_type=code\n",
      "\n",
      "Enter your authorization code:\n",
      "··········\n",
      "Mounted at /content/gdrive/\n"
     ]
    }
   ],
   "source": [
    "from google.colab import drive\n",
    "drive.mount('/content/gdrive/')"
   ]
  },
  {
   "cell_type": "code",
   "execution_count": 0,
   "metadata": {
    "colab": {
     "base_uri": "https://localhost:8080/",
     "height": 34
    },
    "colab_type": "code",
    "id": "W8vRfm1HhYWz",
    "outputId": "567b43b2-5f62-4b18-f68e-9e4d2d18ae29"
   },
   "outputs": [
    {
     "data": {
      "text/plain": [
       "['.config', 'gdrive', 'sample_data']"
      ]
     },
     "execution_count": 3,
     "metadata": {
      "tags": []
     },
     "output_type": "execute_result"
    }
   ],
   "source": [
    "os.listdir()"
   ]
  },
  {
   "cell_type": "code",
   "execution_count": 0,
   "metadata": {
    "colab": {},
    "colab_type": "code",
    "id": "e5ElKSB5iZzP"
   },
   "outputs": [],
   "source": [
    "os.chdir('gdrive/My Drive/')"
   ]
  },
  {
   "cell_type": "code",
   "execution_count": 4,
   "metadata": {
    "colab": {
     "base_uri": "https://localhost:8080/",
     "height": 68
    },
    "colab_type": "code",
    "id": "Vzqb8plxZlSI",
    "outputId": "eeac2468-1457-4aeb-fec8-5525999b4c35"
   },
   "outputs": [
    {
     "name": "stdout",
     "output_type": "stream",
     "text": [
      "Dataset partition \"test\" has 126171 sequences\n",
      "Dataset partition \"cv\" has 126171 sequences\n",
      "Dataset partition \"train\" has 1086741 sequences\n"
     ]
    }
   ],
   "source": [
    "# https://www.kaggle.com/drewbryant/starter-pfam-seed-random-split\n",
    "# Since our data is present in three different files so loading the data from those files and storing it in our dataframes\n",
    "def read_all_shards(partition='cv'):\n",
    "    shards = []\n",
    "    for fn in os.listdir(os.path.join(partition)):\n",
    "        with open(os.path.join(partition, fn)) as f:\n",
    "            shards.append(pd.read_csv(f, index_col=None))\n",
    "    return pd.concat(shards)\n",
    "\n",
    "test = read_all_shards('test')\n",
    "cv = read_all_shards('dev')\n",
    "train = read_all_shards('train')\n",
    "\n",
    "partitions = {'test': test, 'cv': cv, 'train': train}\n",
    "for name, df in partitions.items():\n",
    "    print('Dataset partition \"%s\" has %d sequences' % (name, len(df)))"
   ]
  },
  {
   "cell_type": "code",
   "execution_count": 5,
   "metadata": {
    "colab": {
     "base_uri": "https://localhost:8080/",
     "height": 68
    },
    "colab_type": "code",
    "id": "3GUO4ZBCZlSO",
    "outputId": "6b242ec1-f2c7-4323-f92a-b648f43d44be"
   },
   "outputs": [
    {
     "name": "stdout",
     "output_type": "stream",
     "text": [
      "False\n",
      "False\n",
      "False\n"
     ]
    }
   ],
   "source": [
    "# checking for duplicates\n",
    "print(train.duplicated().any())\n",
    "print(cv.duplicated().any())\n",
    "print(test.duplicated().any())"
   ]
  },
  {
   "cell_type": "code",
   "execution_count": 6,
   "metadata": {
    "colab": {
     "base_uri": "https://localhost:8080/",
     "height": 258
    },
    "colab_type": "code",
    "id": "jKPvE0d4ZlST",
    "outputId": "a090430f-ea55-4607-be42-cac2e15fedd9"
   },
   "outputs": [
    {
     "data": {
      "text/html": [
       "<div>\n",
       "<style scoped>\n",
       "    .dataframe tbody tr th:only-of-type {\n",
       "        vertical-align: middle;\n",
       "    }\n",
       "\n",
       "    .dataframe tbody tr th {\n",
       "        vertical-align: top;\n",
       "    }\n",
       "\n",
       "    .dataframe thead th {\n",
       "        text-align: right;\n",
       "    }\n",
       "</style>\n",
       "<table border=\"1\" class=\"dataframe\">\n",
       "  <thead>\n",
       "    <tr style=\"text-align: right;\">\n",
       "      <th></th>\n",
       "      <th>family_id</th>\n",
       "      <th>sequence_name</th>\n",
       "      <th>family_accession</th>\n",
       "      <th>aligned_sequence</th>\n",
       "      <th>sequence</th>\n",
       "    </tr>\n",
       "  </thead>\n",
       "  <tbody>\n",
       "    <tr>\n",
       "      <th>0</th>\n",
       "      <td>GMC_oxred_C</td>\n",
       "      <td>A4WZS5_RHOS5/416-539</td>\n",
       "      <td>PF05199.13</td>\n",
       "      <td>PHPE.SRIRLST.RRDAHGMP.....IP.RIESRLGP............</td>\n",
       "      <td>PHPESRIRLSTRRDAHGMPIPRIESRLGPDAFARLRFMARTCRAIL...</td>\n",
       "    </tr>\n",
       "    <tr>\n",
       "      <th>1</th>\n",
       "      <td>DUF2887</td>\n",
       "      <td>K9QI92_9NOSO/3-203</td>\n",
       "      <td>PF11103.8</td>\n",
       "      <td>RDSIYYQIFKRFPALIFEL..VD.NRPPQAQNYRFESVEVKETAFR...</td>\n",
       "      <td>RDSIYYQIFKRFPALIFELVDNRPPQAQNYRFESVEVKETAFRIDG...</td>\n",
       "    </tr>\n",
       "    <tr>\n",
       "      <th>2</th>\n",
       "      <td>zf-IS66</td>\n",
       "      <td>Q92LC9_RHIME/32-75</td>\n",
       "      <td>PF13005.7</td>\n",
       "      <td>.TCCPDCGG.E..LRLVGED.AS....EILDMI.AAQMKVIEVARL...</td>\n",
       "      <td>TCCPDCGGELRLVGEDASEILDMIAAQMKVIEVARLKKSCRCCE</td>\n",
       "    </tr>\n",
       "    <tr>\n",
       "      <th>3</th>\n",
       "      <td>Asp_decarbox</td>\n",
       "      <td>X2GQZ4_9BACI/1-115</td>\n",
       "      <td>PF02261.16</td>\n",
       "      <td>MLRMMMNSKIHRATVTEADLNYVGSITIDEDILDAVGMLPNEKVHI...</td>\n",
       "      <td>MLRMMMNSKIHRATVTEADLNYVGSITIDEDILDAVGMLPNEKVHI...</td>\n",
       "    </tr>\n",
       "    <tr>\n",
       "      <th>4</th>\n",
       "      <td>Filamin</td>\n",
       "      <td>A7SQM3_NEMVE/342-439</td>\n",
       "      <td>PF00630.19</td>\n",
       "      <td>TACPKQ.CTA....RGLG.............LK.AAPVT.QPT..R...</td>\n",
       "      <td>TACPKQCTARGLGLKAAPVTQPTRFVVILNDCHGQPLGRSEGELEV...</td>\n",
       "    </tr>\n",
       "  </tbody>\n",
       "</table>\n",
       "</div>"
      ],
      "text/plain": [
       "      family_id  ...                                           sequence\n",
       "0   GMC_oxred_C  ...  PHPESRIRLSTRRDAHGMPIPRIESRLGPDAFARLRFMARTCRAIL...\n",
       "1       DUF2887  ...  RDSIYYQIFKRFPALIFELVDNRPPQAQNYRFESVEVKETAFRIDG...\n",
       "2       zf-IS66  ...       TCCPDCGGELRLVGEDASEILDMIAAQMKVIEVARLKKSCRCCE\n",
       "3  Asp_decarbox  ...  MLRMMMNSKIHRATVTEADLNYVGSITIDEDILDAVGMLPNEKVHI...\n",
       "4       Filamin  ...  TACPKQCTARGLGLKAAPVTQPTRFVVILNDCHGQPLGRSEGELEV...\n",
       "\n",
       "[5 rows x 5 columns]"
      ]
     },
     "execution_count": 6,
     "metadata": {
      "tags": []
     },
     "output_type": "execute_result"
    }
   ],
   "source": [
    "train.head()"
   ]
  },
  {
   "cell_type": "code",
   "execution_count": 7,
   "metadata": {
    "colab": {
     "base_uri": "https://localhost:8080/",
     "height": 68
    },
    "colab_type": "code",
    "id": "bPyiZohYZlSY",
    "outputId": "000feaa5-86b0-4c59-ec9c-1a6c664f96c8"
   },
   "outputs": [
    {
     "name": "stdout",
     "output_type": "stream",
     "text": [
      "df_train:  (300000, 5)\n",
      "df_cv  :  (10000, 5)\n",
      "df_test :  (10000, 5)\n"
     ]
    }
   ],
   "source": [
    "# Here we'll be taking only 300k train datapoints and 10k cv and test datapoints because the original dataset has 1MM datapoints\n",
    "# Working on 1MM datapoints can be computationally expensive\n",
    "df_train = train[0:300000]\n",
    "df_cv = cv[0:10000]\n",
    "df_test = test[0:10000]\n",
    "print(\"df_train: \", df_train.shape)\n",
    "print(\"df_cv  : \", df_cv.shape)\n",
    "print(\"df_test : \", df_test.shape)"
   ]
  },
  {
   "cell_type": "code",
   "execution_count": 8,
   "metadata": {
    "colab": {
     "base_uri": "https://localhost:8080/",
     "height": 85
    },
    "colab_type": "code",
    "id": "aF0zc-j-ZlSc",
    "outputId": "72f39d03-c4d5-4a0b-8c74-431f71b99f17"
   },
   "outputs": [
    {
     "name": "stdout",
     "output_type": "stream",
     "text": [
      "Number of unique classes in train set : 16341\n",
      "Number of unique classes in cv set : 4921\n",
      "Number of unique classes in test set : 4934\n",
      "Number of unique classes in all the three datasets : 16353\n"
     ]
    }
   ],
   "source": [
    "print(\"Number of unique classes in train set :\", len(np.unique(df_train.family_accession)))\n",
    "print(\"Number of unique classes in cv set :\", len(np.unique(df_cv.family_accession)))\n",
    "print(\"Number of unique classes in test set :\", len(np.unique(df_test.family_accession)))\n",
    "print(\"Number of unique classes in all the three datasets :\",len(set(np.unique(df_test.family_accession)).union(set(np.unique(df_cv.family_accession)),set(np.unique(df_train.family_accession)))))"
   ]
  },
  {
   "cell_type": "code",
   "execution_count": 9,
   "metadata": {
    "colab": {
     "base_uri": "https://localhost:8080/",
     "height": 34
    },
    "colab_type": "code",
    "id": "M8WIamdvZlSg",
    "outputId": "b3065717-fa8f-431d-e9f7-d8979b1249d9"
   },
   "outputs": [
    {
     "name": "stdout",
     "output_type": "stream",
     "text": [
      "Number of common classes in train cv and test data : 2900\n"
     ]
    }
   ],
   "source": [
    "common_class = set(np.unique(df_test.family_accession)).intersection(set(np.unique(df_cv.family_accession)),set(np.unique(df_train.family_accession)))\n",
    "print(\"Number of common classes in train cv and test data :\", len(common_class))"
   ]
  },
  {
   "cell_type": "code",
   "execution_count": 10,
   "metadata": {
    "colab": {
     "base_uri": "https://localhost:8080/",
     "height": 68
    },
    "colab_type": "code",
    "id": "_zselrnnZlSj",
    "outputId": "e00ce6ed-ca88-4b24-b1ba-18f3aa45d0aa"
   },
   "outputs": [
    {
     "name": "stdout",
     "output_type": "stream",
     "text": [
      "Shape of our train data :  (174649, 6)\n",
      "Shape of our cv data :  (7359, 6)\n",
      "Shape of our test data :  (7370, 6)\n"
     ]
    }
   ],
   "source": [
    "# Selecting the datapoints with the common family accession in all the three datasets.\n",
    "df_train = df_train.loc[df_train['family_accession'].isin(common_class)].reset_index()\n",
    "df_cv = df_cv.loc[df_cv['family_accession'].isin(common_class)].reset_index()\n",
    "df_test = df_test.loc[df_test['family_accession'].isin(common_class)].reset_index()\n",
    "print(\"Shape of our train data : \",df_train.shape)\n",
    "print(\"Shape of our cv data : \",df_cv.shape)\n",
    "print(\"Shape of our test data : \",df_test.shape)"
   ]
  },
  {
   "cell_type": "markdown",
   "metadata": {
    "colab_type": "text",
    "id": "nEtrfUACZlSn"
   },
   "source": [
    "**So we are left with approx 174k train datapoints 7359 cv datapoints and 7370 test datapoints.**"
   ]
  },
  {
   "cell_type": "code",
   "execution_count": 11,
   "metadata": {
    "colab": {
     "base_uri": "https://localhost:8080/",
     "height": 292
    },
    "colab_type": "code",
    "id": "XjqX4zC_ZlSp",
    "outputId": "00cef660-1e4b-4172-86dd-921e1aa1e2e3"
   },
   "outputs": [
    {
     "data": {
      "text/html": [
       "<div>\n",
       "<style scoped>\n",
       "    .dataframe tbody tr th:only-of-type {\n",
       "        vertical-align: middle;\n",
       "    }\n",
       "\n",
       "    .dataframe tbody tr th {\n",
       "        vertical-align: top;\n",
       "    }\n",
       "\n",
       "    .dataframe thead th {\n",
       "        text-align: right;\n",
       "    }\n",
       "</style>\n",
       "<table border=\"1\" class=\"dataframe\">\n",
       "  <thead>\n",
       "    <tr style=\"text-align: right;\">\n",
       "      <th></th>\n",
       "      <th>index</th>\n",
       "      <th>family_id</th>\n",
       "      <th>sequence_name</th>\n",
       "      <th>family_accession</th>\n",
       "      <th>aligned_sequence</th>\n",
       "      <th>sequence</th>\n",
       "    </tr>\n",
       "  </thead>\n",
       "  <tbody>\n",
       "    <tr>\n",
       "      <th>0</th>\n",
       "      <td>0</td>\n",
       "      <td>GMC_oxred_C</td>\n",
       "      <td>A4WZS5_RHOS5/416-539</td>\n",
       "      <td>PF05199.13</td>\n",
       "      <td>PHPE.SRIRLST.RRDAHGMP.....IP.RIESRLGP............</td>\n",
       "      <td>PHPESRIRLSTRRDAHGMPIPRIESRLGPDAFARLRFMARTCRAIL...</td>\n",
       "    </tr>\n",
       "    <tr>\n",
       "      <th>1</th>\n",
       "      <td>3</td>\n",
       "      <td>Asp_decarbox</td>\n",
       "      <td>X2GQZ4_9BACI/1-115</td>\n",
       "      <td>PF02261.16</td>\n",
       "      <td>MLRMMMNSKIHRATVTEADLNYVGSITIDEDILDAVGMLPNEKVHI...</td>\n",
       "      <td>MLRMMMNSKIHRATVTEADLNYVGSITIDEDILDAVGMLPNEKVHI...</td>\n",
       "    </tr>\n",
       "    <tr>\n",
       "      <th>2</th>\n",
       "      <td>4</td>\n",
       "      <td>Filamin</td>\n",
       "      <td>A7SQM3_NEMVE/342-439</td>\n",
       "      <td>PF00630.19</td>\n",
       "      <td>TACPKQ.CTA....RGLG.............LK.AAPVT.QPT..R...</td>\n",
       "      <td>TACPKQCTARGLGLKAAPVTQPTRFVVILNDCHGQPLGRSEGELEV...</td>\n",
       "    </tr>\n",
       "    <tr>\n",
       "      <th>3</th>\n",
       "      <td>6</td>\n",
       "      <td>GGACT</td>\n",
       "      <td>A0A086WQ80_9VIBR/5-113</td>\n",
       "      <td>PF06094.12</td>\n",
       "      <td>LFVY...GTLRQG..ESNH.N.F.L.AD.....S...Q...........</td>\n",
       "      <td>LFVYGTLRQGESNHNFLADSQCLGHFETPPHYALYDLGTYPAVIEG...</td>\n",
       "    </tr>\n",
       "    <tr>\n",
       "      <th>4</th>\n",
       "      <td>8</td>\n",
       "      <td>His_kinase</td>\n",
       "      <td>Q47E94_DECAR/372-450</td>\n",
       "      <td>PF06580.13</td>\n",
       "      <td>SE.I..KLLHAQVNPHFLFNALNTL......S....AV...I.......</td>\n",
       "      <td>SEIKLLHAQVNPHFLFNALNTLSAVIRRDPEKACHLVLNLSTFFRK...</td>\n",
       "    </tr>\n",
       "  </tbody>\n",
       "</table>\n",
       "</div>"
      ],
      "text/plain": [
       "   index  ...                                           sequence\n",
       "0      0  ...  PHPESRIRLSTRRDAHGMPIPRIESRLGPDAFARLRFMARTCRAIL...\n",
       "1      3  ...  MLRMMMNSKIHRATVTEADLNYVGSITIDEDILDAVGMLPNEKVHI...\n",
       "2      4  ...  TACPKQCTARGLGLKAAPVTQPTRFVVILNDCHGQPLGRSEGELEV...\n",
       "3      6  ...  LFVYGTLRQGESNHNFLADSQCLGHFETPPHYALYDLGTYPAVIEG...\n",
       "4      8  ...  SEIKLLHAQVNPHFLFNALNTLSAVIRRDPEKACHLVLNLSTFFRK...\n",
       "\n",
       "[5 rows x 6 columns]"
      ]
     },
     "execution_count": 11,
     "metadata": {
      "tags": []
     },
     "output_type": "execute_result"
    }
   ],
   "source": [
    "df_train.head()"
   ]
  },
  {
   "cell_type": "markdown",
   "metadata": {
    "colab_type": "text",
    "id": "gePqQRY_ZlSs"
   },
   "source": [
    "## Exploaratory Data Analysis"
   ]
  },
  {
   "cell_type": "markdown",
   "metadata": {
    "colab_type": "text",
    "id": "VHku1bXYweyK"
   },
   "source": [
    "Now let us perform some Exploratory analysis on our data."
   ]
  },
  {
   "cell_type": "code",
   "execution_count": 12,
   "metadata": {
    "colab": {
     "base_uri": "https://localhost:8080/",
     "height": 851
    },
    "colab_type": "code",
    "id": "2omhPRJ3ZlSu",
    "outputId": "109aecc5-32ab-4a73-f850-73b611ee492a"
   },
   "outputs": [
    {
     "data": {
      "image/png": "[encoded data removed]",
      "text/plain": [
       "<Figure size 432x288 with 1 Axes>"
      ]
     },
     "metadata": {
      "tags": []
     },
     "output_type": "display_data"
    },
    {
     "data": {
      "image/png": "[encoded data removed]",
      "text/plain": [
       "<Figure size 432x288 with 1 Axes>"
      ]
     },
     "metadata": {
      "tags": []
     },
     "output_type": "display_data"
    },
    {
     "data": {
      "image/png": "[encoded data removed]",
      "text/plain": [
       "<Figure size 432x288 with 1 Axes>"
      ]
     },
     "metadata": {
      "tags": []
     },
     "output_type": "display_data"
    }
   ],
   "source": [
    "partitions = {'test': df_test, 'cv': df_cv, 'train': df_train}\n",
    "for name, partition in partitions.items():\n",
    "    partition.groupby('family_accession').size().hist(bins=50)\n",
    "    plt.title('Distribution of family sizes for %s' % name)\n",
    "    plt.ylabel('# Families')\n",
    "    plt.xlabel('Family size')\n",
    "    plt.show()"
   ]
  },
  {
   "cell_type": "code",
   "execution_count": 13,
   "metadata": {
    "colab": {
     "base_uri": "https://localhost:8080/",
     "height": 617
    },
    "colab_type": "code",
    "id": "rVvoDuBUZlSy",
    "outputId": "44dc9d39-092f-42f7-b770-cc88e70930c8"
   },
   "outputs": [
    {
     "data": {
      "image/png": "[encoded data removed]",
      "text/plain": [
       "<Figure size 1440x720 with 1 Axes>"
      ]
     },
     "metadata": {
      "tags": []
     },
     "output_type": "display_data"
    }
   ],
   "source": [
    "plt.figure(figsize=(20,10))\n",
    "sns.set(style=\"darkgrid\")\n",
    "ax = sns.countplot(x=\"family_accession\", data=df_train)\n",
    "plt.show()"
   ]
  },
  {
   "cell_type": "code",
   "execution_count": 0,
   "metadata": {
    "colab": {},
    "colab_type": "code",
    "id": "jQx0Q3gtZlS3"
   },
   "outputs": [],
   "source": [
    "#### Train Sequence length percentiles\n",
    "train_des = pd.DataFrame(df_train.sequence.map(len)).describe(include = 'all', percentiles = [.1, .2, .3, .4, .5, .6, .7, .8, .9])\n",
    "\n",
    "#### Dev Sequence length percentiles\n",
    "cv_des = pd.DataFrame(df_cv.sequence.map(len)).describe(include = 'all', percentiles = [.1, .2, .3, .4, .5, .6, .7, .8, .9])\n",
    "\n",
    "#### Test Sequence length percentiles\n",
    "test_des = pd.DataFrame(df_test.sequence.map(len)).describe(include = 'all', percentiles = [.1, .2, .3, .4, .5, .6, .7, .8, .9])"
   ]
  },
  {
   "cell_type": "code",
   "execution_count": 0,
   "metadata": {
    "colab": {
     "base_uri": "https://localhost:8080/",
     "height": 308
    },
    "colab_type": "code",
    "id": "w52N-8qjZlS7",
    "outputId": "0dd001fb-0b3d-4503-8847-bb344b277c0e"
   },
   "outputs": [
    {
     "data": {
      "text/plain": [
       "Text(0, 0.5, 'length of sequence')"
      ]
     },
     "execution_count": 16,
     "metadata": {
      "tags": []
     },
     "output_type": "execute_result"
    },
    {
     "data": {
      "image/png": "[encoded data removed]",
      "text/plain": [
       "<Figure size 432x288 with 1 Axes>"
      ]
     },
     "metadata": {
      "tags": []
     },
     "output_type": "display_data"
    }
   ],
   "source": [
    "y_pos = np.arange(13)\n",
    "ticks = ['mean','std','min','10%','20%','30%','40%','50%','60%','70%','80%','90%','max']\n",
    "plt.bar(y_pos ,(train_des[1:].sequence), label='train')\n",
    "s = plt.xticks(y_pos,ticks)\n",
    "plt.xlabel('percentile of lengths')\n",
    "plt.ylabel('length of sequence')"
   ]
  },
  {
   "cell_type": "code",
   "execution_count": 0,
   "metadata": {
    "colab": {
     "base_uri": "https://localhost:8080/",
     "height": 291
    },
    "colab_type": "code",
    "id": "Li2jiOucZlTA",
    "outputId": "451fb798-8c7f-4ef5-9611-0e623ff4bf70"
   },
   "outputs": [
    {
     "data": {
      "image/png": "[encoded data removed]",
      "text/plain": [
       "<Figure size 432x288 with 1 Axes>"
      ]
     },
     "metadata": {
      "tags": []
     },
     "output_type": "display_data"
    }
   ],
   "source": [
    "plt.bar(y_pos ,cv_des[1:].sequence,color='y')\n",
    "plt.xlabel('percentile of lengths')\n",
    "plt.ylabel('length of sequence')\n",
    "s = plt.xticks(y_pos,ticks)"
   ]
  },
  {
   "cell_type": "code",
   "execution_count": 0,
   "metadata": {
    "colab": {
     "base_uri": "https://localhost:8080/",
     "height": 291
    },
    "colab_type": "code",
    "id": "gWj_9hf-ZlTF",
    "outputId": "a821a576-3cdc-4634-9928-47b89545f9a0"
   },
   "outputs": [
    {
     "data": {
      "image/png": "[encoded data removed]",
      "text/plain": [
       "<Figure size 432x288 with 1 Axes>"
      ]
     },
     "metadata": {
      "tags": []
     },
     "output_type": "display_data"
    }
   ],
   "source": [
    "plt.bar(y_pos ,test_des[1:].sequence,color='r')\n",
    "plt.xlabel('percentile of lengths')\n",
    "plt.ylabel('length of sequence')\n",
    "s = plt.xticks(y_pos,ticks)"
   ]
  },
  {
   "cell_type": "code",
   "execution_count": 39,
   "metadata": {
    "colab": {
     "base_uri": "https://localhost:8080/",
     "height": 624
    },
    "colab_type": "code",
    "id": "nlvKFQsKZlTJ",
    "outputId": "22a2612a-6a43-48ac-c9a1-34bf650c9a56"
   },
   "outputs": [
    {
     "name": "stdout",
     "output_type": "stream",
     "text": [
      "Following are the plots of the most frequent family_ids and their counts\n"
     ]
    },
    {
     "data": {
      "image/png": "[encoded data removed]",
      "text/plain": [
       "<Figure size 1080x576 with 3 Axes>"
      ]
     },
     "metadata": {
      "tags": []
     },
     "output_type": "display_data"
    }
   ],
   "source": [
    "print('Following are the plots of the most frequent family_ids and their counts')\n",
    "plt.figure(figsize=(15,8))\n",
    "plt.subplot(1,3,1)\n",
    "plt.title('Train')\n",
    "df_train.groupby('family_id').size().sort_values(ascending=False).head(20).plot('bar')\n",
    "plt.subplot(1,3,2)\n",
    "plt.title('cv')\n",
    "df_cv.groupby('family_id').size().sort_values(ascending=False).head(20).plot('bar',color='y')\n",
    "plt.subplot(1,3,3)\n",
    "plt.title('Test')\n",
    "df_test.groupby('family_id').size().sort_values(ascending=False).head(20).plot('bar',color='red')\n",
    "plt.show()"
   ]
  },
  {
   "cell_type": "markdown",
   "metadata": {
    "colab_type": "text",
    "id": "ZcN6YL85ZlTY"
   },
   "source": [
    "## Utility Functions"
   ]
  },
  {
   "cell_type": "code",
   "execution_count": 0,
   "metadata": {
    "colab": {},
    "colab_type": "code",
    "id": "d6udfpv0ZlTZ"
   },
   "outputs": [],
   "source": [
    "import time\n",
    "# https://gist.github.com/greydanus/f6eee59eaf1d90fcb3b534a25362cea4\n",
    "# https://stackoverflow.com/a/14434334\n",
    "# this function is used to update the plots for each epoch and error\n",
    "def plt_dynamic( x, vy, ty, ax, colors=['b']):\n",
    "    ax.plot(x, vy, 'b', label=\"Validation Loss\")\n",
    "    ax.plot(x, ty, 'r', label=\"Train Loss\")\n",
    "    plt.legend()\n",
    "    plt.grid()\n",
    "    fig.canvas.draw()\n",
    "    plt.show()"
   ]
  },
  {
   "cell_type": "code",
   "execution_count": 0,
   "metadata": {
    "colab": {},
    "colab_type": "code",
    "id": "HuQA5fChZlTj"
   },
   "outputs": [],
   "source": [
    "def space_in_sequence(word):\n",
    "    '''\n",
    "    Space in sequence. Example: 'ABCDEFG' to ' A B C D E F G'\n",
    "    '''\n",
    "    s_= ''\n",
    "    for i in range(0, len(word), 1):\n",
    "        s_ = s_ + ' ' + word[i]\n",
    "    return s_\n",
    "\n",
    "def top_freq_features(df, n):\n",
    "    return df[:n]\n",
    "space_in_sequence(df_train.sequence[2])"
   ]
  },
  {
   "cell_type": "code",
   "execution_count": 0,
   "metadata": {
    "colab": {},
    "colab_type": "code",
    "id": "_NE-SyS0ZlT0"
   },
   "outputs": [],
   "source": [
    "def compile_execute_model():\n",
    "    \"\"\"Compile, execute and evaluate the model. Get \"Categorical Crossentropy Loss\" vs \"epocs\" plot\"\"\"\n",
    "    print(\"Model Summary:\")\n",
    "    model.summary()\n",
    "    print(\"Model Compilation:\")\n",
    "    model.compile(optimizer='adam', loss='binary_crossentropy', metrics=['accuracy'])\n",
    "    print(\"Model Execution:\")\n",
    "    history = model.fit(X_train, y_train, batch_size=batch_size, epochs=nb_epoch, verbose=1, validation_data=(X_cv, y_cv))\n",
    "    score = model.evaluate(X_test, y_test, verbose=0) \n",
    "    print('cv score:', score[0]) \n",
    "    print('cv accuracy:', score[1])\n",
    "    \n",
    "    model_pretty_table.add_row([model_name, round(score[0]*100,2), round(score[1]*100,2)])\n",
    "    \n",
    "    fig,ax = plt.subplots(1,1)\n",
    "    ax.set_xlabel('epoch') ; ax.set_ylabel('Categorical Crossentropy Loss')\n",
    "\n",
    "    # list of epoch numbers\n",
    "    x = list(range(1,nb_epoch+1))\n",
    "\n",
    "    vy = history.history['val_loss']\n",
    "    ty = history.history['loss']\n",
    "    plt_dynamic(fig, x, vy, ty, ax)"
   ]
  },
  {
   "cell_type": "code",
   "execution_count": 0,
   "metadata": {
    "colab": {},
    "colab_type": "code",
    "id": "vRneRwcOZlT6"
   },
   "outputs": [],
   "source": [
    "def get_index(word):\n",
    "    '''This function is to get the index of the char from the feature frequency dataframe'''\n",
    "    word = word.lower()\n",
    "    temp = df['feature'] == word\n",
    "    temp_sum = np.array(temp).sum()\n",
    "    if(temp_sum ==1):\n",
    "        return df.index[df['feature'] == word].tolist()[0]\n",
    "    else:\n",
    "        return top_words"
   ]
  },
  {
   "cell_type": "code",
   "execution_count": 0,
   "metadata": {
    "colab": {},
    "colab_type": "code",
    "id": "8Y6C6v-uZlUE"
   },
   "outputs": [],
   "source": [
    "def right_padding_with_index(x_train, max_seq_length):\n",
    "    '''this function is to get the right padded index_sequences'''\n",
    "    from tqdm import tqdm\n",
    "    #X_train = numpy.zeros((x_train.shape[0], max_seq_length), dtype = 'int')\n",
    "    lis =[]\n",
    "    i = 0\n",
    "    for j in tqdm(np.arange(0,len(x_train))):\n",
    "        x = x_train[j]\n",
    "        x_iter = map(get_index, x.split())\n",
    "        l1 = list(x_iter)\n",
    "        lis.append(l1)\n",
    "    arr = sequence.pad_sequences(lis, maxlen=100, padding='post')\n",
    "    return arr"
   ]
  },
  {
   "cell_type": "code",
   "execution_count": 0,
   "metadata": {
    "colab": {},
    "colab_type": "code",
    "id": "UWLIAQi4ZlUH"
   },
   "outputs": [],
   "source": [
    "from keras.utils import np_utils\n",
    "def get_categorical(y_train, number_of_unique_classes):\n",
    "    '''This function is to convert into one hot encoded vectors'''\n",
    "    Y_train = []\n",
    "    for label in y_train:\n",
    "        label_ = np_utils.to_categorical(label , number_of_unique_classes) \n",
    "        Y_train.append(label_)\n",
    "    Y_train = np.array(Y_train)\n",
    "    return Y_train"
   ]
  },
  {
   "cell_type": "code",
   "execution_count": 0,
   "metadata": {
    "colab": {},
    "colab_type": "code",
    "id": "_RmqREBiZlUQ"
   },
   "outputs": [],
   "source": [
    "#Performing the Spacing between the characters of the sequence\n",
    "x_train = (df_train.sequence).apply(space_in_sequence)\n",
    "x_cv    = (df_cv.sequence).apply(space_in_sequence)\n",
    "x_test  = (df_test.sequence).apply(space_in_sequence)"
   ]
  },
  {
   "cell_type": "code",
   "execution_count": 0,
   "metadata": {
    "colab": {},
    "colab_type": "code",
    "id": "B_ZkEpSPZlUU"
   },
   "outputs": [],
   "source": [
    "values   = np.arange(0,len(df_train.family_accession.unique()),1)\n",
    "keys = df_train.family_accession.unique()\n",
    "dict_class = dict(zip(keys, values))\n",
    "\n",
    "y_train = df_train.family_accession.apply(lambda x: dict_class[x])\n",
    "y_cv    = df_cv.family_accession.apply(lambda x: dict_class[x])\n",
    "y_test  = df_test.family_accession.apply(lambda x: dict_class[x])"
   ]
  },
  {
   "cell_type": "code",
   "execution_count": 0,
   "metadata": {
    "colab": {
     "base_uri": "https://localhost:8080/",
     "height": 34
    },
    "colab_type": "code",
    "id": "Tw7ske53ZlUa",
    "outputId": "c18c7128-d390-4612-e4c6-ffc676a126ca"
   },
   "outputs": [
    {
     "data": {
      "text/plain": [
       "(23,)"
      ]
     },
     "execution_count": 30,
     "metadata": {
      "tags": []
     },
     "output_type": "execute_result"
    }
   ],
   "source": [
    "bow_scalar = CountVectorizer(token_pattern = r\"(?u)\\b\\w+\\b\")\n",
    "bow_scalar.fit(x_train.values)\n",
    "\n",
    "final_counts = bow_scalar.transform(x_train.values).toarray()\n",
    "final_counts = final_counts.sum(axis=0)\n",
    "final_counts.shape"
   ]
  },
  {
   "cell_type": "code",
   "execution_count": 0,
   "metadata": {
    "colab": {
     "base_uri": "https://localhost:8080/",
     "height": 85
    },
    "colab_type": "code",
    "id": "RMkOLxn2ZlUf",
    "outputId": "d1e9f9b2-e7fd-4840-c589-a911b5025aa2"
   },
   "outputs": [
    {
     "data": {
      "text/plain": [
       "array([2302173,       3,  347613, 1428929, 1640466, 1088157, 1925519,\n",
       "        565572, 1631716, 1367811, 2616177,  583577,  984063, 1119584,\n",
       "        910792, 1444935, 1549521, 1393216,       8, 1904620,  337636,\n",
       "           249,  840470])"
      ]
     },
     "execution_count": 31,
     "metadata": {
      "tags": []
     },
     "output_type": "execute_result"
    }
   ],
   "source": [
    "final_counts     # Overall count of each character in complete data corpus"
   ]
  },
  {
   "cell_type": "code",
   "execution_count": 0,
   "metadata": {
    "colab": {
     "base_uri": "https://localhost:8080/",
     "height": 762
    },
    "colab_type": "code",
    "id": "vQBmgqk4ZlUn",
    "outputId": "072bef49-cfdb-4e30-804f-83e0b2718fbf"
   },
   "outputs": [
    {
     "data": {
      "text/html": [
       "<div>\n",
       "<style scoped>\n",
       "    .dataframe tbody tr th:only-of-type {\n",
       "        vertical-align: middle;\n",
       "    }\n",
       "\n",
       "    .dataframe tbody tr th {\n",
       "        vertical-align: top;\n",
       "    }\n",
       "\n",
       "    .dataframe thead th {\n",
       "        text-align: right;\n",
       "    }\n",
       "</style>\n",
       "<table border=\"1\" class=\"dataframe\">\n",
       "  <thead>\n",
       "    <tr style=\"text-align: right;\">\n",
       "      <th></th>\n",
       "      <th>feature</th>\n",
       "      <th>frequency</th>\n",
       "    </tr>\n",
       "  </thead>\n",
       "  <tbody>\n",
       "    <tr>\n",
       "      <th>0</th>\n",
       "      <td>l</td>\n",
       "      <td>2616177</td>\n",
       "    </tr>\n",
       "    <tr>\n",
       "      <th>1</th>\n",
       "      <td>a</td>\n",
       "      <td>2302173</td>\n",
       "    </tr>\n",
       "    <tr>\n",
       "      <th>2</th>\n",
       "      <td>g</td>\n",
       "      <td>1925519</td>\n",
       "    </tr>\n",
       "    <tr>\n",
       "      <th>3</th>\n",
       "      <td>v</td>\n",
       "      <td>1904620</td>\n",
       "    </tr>\n",
       "    <tr>\n",
       "      <th>4</th>\n",
       "      <td>e</td>\n",
       "      <td>1640466</td>\n",
       "    </tr>\n",
       "    <tr>\n",
       "      <th>5</th>\n",
       "      <td>i</td>\n",
       "      <td>1631716</td>\n",
       "    </tr>\n",
       "    <tr>\n",
       "      <th>6</th>\n",
       "      <td>s</td>\n",
       "      <td>1549521</td>\n",
       "    </tr>\n",
       "    <tr>\n",
       "      <th>7</th>\n",
       "      <td>r</td>\n",
       "      <td>1444935</td>\n",
       "    </tr>\n",
       "    <tr>\n",
       "      <th>8</th>\n",
       "      <td>d</td>\n",
       "      <td>1428929</td>\n",
       "    </tr>\n",
       "    <tr>\n",
       "      <th>9</th>\n",
       "      <td>t</td>\n",
       "      <td>1393216</td>\n",
       "    </tr>\n",
       "    <tr>\n",
       "      <th>10</th>\n",
       "      <td>k</td>\n",
       "      <td>1367811</td>\n",
       "    </tr>\n",
       "    <tr>\n",
       "      <th>11</th>\n",
       "      <td>p</td>\n",
       "      <td>1119584</td>\n",
       "    </tr>\n",
       "    <tr>\n",
       "      <th>12</th>\n",
       "      <td>f</td>\n",
       "      <td>1088157</td>\n",
       "    </tr>\n",
       "    <tr>\n",
       "      <th>13</th>\n",
       "      <td>n</td>\n",
       "      <td>984063</td>\n",
       "    </tr>\n",
       "    <tr>\n",
       "      <th>14</th>\n",
       "      <td>q</td>\n",
       "      <td>910792</td>\n",
       "    </tr>\n",
       "    <tr>\n",
       "      <th>15</th>\n",
       "      <td>y</td>\n",
       "      <td>840470</td>\n",
       "    </tr>\n",
       "    <tr>\n",
       "      <th>16</th>\n",
       "      <td>m</td>\n",
       "      <td>583577</td>\n",
       "    </tr>\n",
       "    <tr>\n",
       "      <th>17</th>\n",
       "      <td>h</td>\n",
       "      <td>565572</td>\n",
       "    </tr>\n",
       "    <tr>\n",
       "      <th>18</th>\n",
       "      <td>c</td>\n",
       "      <td>347613</td>\n",
       "    </tr>\n",
       "    <tr>\n",
       "      <th>19</th>\n",
       "      <td>w</td>\n",
       "      <td>337636</td>\n",
       "    </tr>\n",
       "    <tr>\n",
       "      <th>20</th>\n",
       "      <td>x</td>\n",
       "      <td>249</td>\n",
       "    </tr>\n",
       "    <tr>\n",
       "      <th>21</th>\n",
       "      <td>u</td>\n",
       "      <td>8</td>\n",
       "    </tr>\n",
       "    <tr>\n",
       "      <th>22</th>\n",
       "      <td>b</td>\n",
       "      <td>3</td>\n",
       "    </tr>\n",
       "  </tbody>\n",
       "</table>\n",
       "</div>"
      ],
      "text/plain": [
       "   feature  frequency\n",
       "0        l    2616177\n",
       "1        a    2302173\n",
       "2        g    1925519\n",
       "3        v    1904620\n",
       "4        e    1640466\n",
       "5        i    1631716\n",
       "6        s    1549521\n",
       "7        r    1444935\n",
       "8        d    1428929\n",
       "9        t    1393216\n",
       "10       k    1367811\n",
       "11       p    1119584\n",
       "12       f    1088157\n",
       "13       n     984063\n",
       "14       q     910792\n",
       "15       y     840470\n",
       "16       m     583577\n",
       "17       h     565572\n",
       "18       c     347613\n",
       "19       w     337636\n",
       "20       x        249\n",
       "21       u          8\n",
       "22       b          3"
      ]
     },
     "execution_count": 32,
     "metadata": {
      "tags": []
     },
     "output_type": "execute_result"
    }
   ],
   "source": [
    "df = pd.DataFrame({ 'feature': bow_scalar.get_feature_names(),'frequency': list(final_counts) })\n",
    "df.sort_values('frequency', ascending = False, inplace = True)\n",
    "df.reset_index(drop=True, inplace = True)\n",
    "df.head(25)"
   ]
  },
  {
   "cell_type": "code",
   "execution_count": 0,
   "metadata": {
    "colab": {},
    "colab_type": "code",
    "id": "Zru5pEDzZlUv"
   },
   "outputs": [],
   "source": [
    "top_words = 20       # We ll be taking only top 20 words\n",
    "max_seq_length = 100  # Max length of a sequence is to be 100 only\n",
    "from tqdm import tqdm\n",
    "df = top_freq_features(df, top_words)"
   ]
  },
  {
   "cell_type": "code",
   "execution_count": 0,
   "metadata": {
    "colab": {
     "base_uri": "https://localhost:8080/",
     "height": 34
    },
    "colab_type": "code",
    "id": "0-3FSgUeZlUz",
    "outputId": "72f624dc-ff3c-42ec-d795-e5220f8b0d4c"
   },
   "outputs": [
    {
     "name": "stdout",
     "output_type": "stream",
     "text": [
      "unique_indexes:  21\n"
     ]
    }
   ],
   "source": [
    "unique_indexes = top_words + 1\n",
    "print(\"unique_indexes: \", unique_indexes)"
   ]
  },
  {
   "cell_type": "code",
   "execution_count": 0,
   "metadata": {
    "colab": {
     "base_uri": "https://localhost:8080/",
     "height": 323
    },
    "colab_type": "code",
    "id": "BUPIS_77ZlU5",
    "outputId": "365ddbf3-27ef-47c6-c0ef-07a7af873e84"
   },
   "outputs": [
    {
     "name": "stderr",
     "output_type": "stream",
     "text": [
      "  0%|          | 2/174649 [00:00<4:09:03, 11.69it/s]"
     ]
    },
    {
     "name": "stdout",
     "output_type": "stream",
     "text": [
      "calculating X_train ...\n"
     ]
    },
    {
     "name": "stderr",
     "output_type": "stream",
     "text": [
      "100%|██████████| 174649/174649 [4:23:26<00:00, 11.05it/s]\n"
     ]
    },
    {
     "name": "stdout",
     "output_type": "stream",
     "text": [
      "CPU times: user 4h 22min 20s, sys: 2min 5s, total: 4h 24min 26s\n",
      "Wall time: 4h 23min 28s\n"
     ]
    },
    {
     "name": "stderr",
     "output_type": "stream",
     "text": [
      "  0%|          | 3/7359 [00:00<05:08, 23.82it/s]"
     ]
    },
    {
     "name": "stdout",
     "output_type": "stream",
     "text": [
      "CPU times: user 14.2 s, sys: 92.9 ms, total: 14.3 s\n",
      "Wall time: 14.5 s\n",
      "calculating X_cv ...\n"
     ]
    },
    {
     "name": "stderr",
     "output_type": "stream",
     "text": [
      "100%|██████████| 7359/7359 [11:57<00:00, 10.26it/s]\n"
     ]
    },
    {
     "name": "stdout",
     "output_type": "stream",
     "text": [
      "CPU times: user 11min 34s, sys: 24.2 s, total: 11min 58s\n",
      "Wall time: 11min 57s\n"
     ]
    },
    {
     "name": "stderr",
     "output_type": "stream",
     "text": [
      "  0%|          | 1/7370 [00:00<18:33,  6.62it/s]"
     ]
    },
    {
     "name": "stdout",
     "output_type": "stream",
     "text": [
      "CPU times: user 585 ms, sys: 5.97 ms, total: 591 ms\n",
      "Wall time: 602 ms\n",
      "calculating X_test ...\n"
     ]
    },
    {
     "name": "stderr",
     "output_type": "stream",
     "text": [
      "100%|██████████| 7370/7370 [11:33<00:00, 10.63it/s]\n"
     ]
    },
    {
     "name": "stdout",
     "output_type": "stream",
     "text": [
      "CPU times: user 11min 18s, sys: 17.1 s, total: 11min 35s\n",
      "Wall time: 11min 33s\n",
      "CPU times: user 619 ms, sys: 1.98 ms, total: 621 ms\n",
      "Wall time: 634 ms\n"
     ]
    }
   ],
   "source": [
    "from tqdm import tqdm\n",
    "if not os.path.isfile('X_train.csv'):\n",
    "    print(\"calculating X_train ...\")\n",
    "    %time X_train = right_padding_with_index(x_train[:], max_seq_length)     #performing right padding on our data\n",
    "    %time pd.DataFrame(X_train).to_csv(\"X_train.csv\", index=False, mode = 'w', header = True)\n",
    "\n",
    "\n",
    "if not os.path.isfile('X_cv.csv'):\n",
    "    print(\"calculating X_cv ...\")\n",
    "    %time X_cv = right_padding_with_index(x_cv[:], max_seq_length)\n",
    "    %time pd.DataFrame(X_cv).to_csv(\"X_cv.csv\", index=False, mode = 'w', header = True)\n",
    "\n",
    "\n",
    "if not os.path.isfile('X_test.csv'):\n",
    "    print(\"calculating X_test ...\")\n",
    "    %time X_test  = right_padding_with_index(x_test[:], max_seq_length)\n",
    "    %time pd.DataFrame(X_test).to_csv(\"X_test.csv\", index=False, mode = 'w', header = True)\n"
   ]
  },
  {
   "cell_type": "code",
   "execution_count": 0,
   "metadata": {
    "colab": {},
    "colab_type": "code",
    "id": "cL0nXbkzZlU-"
   },
   "outputs": [],
   "source": [
    "import numpy as np\n",
    "def one_hot(final_sequence):\n",
    "    nb_classes = 21                          # This is to convert our indexed data into one hot coded data\n",
    "    targets = np.array(final_sequence)\n",
    "    one_hot_train = np.eye(nb_classes)[targets]\n",
    "    \n",
    "    return one_hot_train"
   ]
  },
  {
   "cell_type": "code",
   "execution_count": 0,
   "metadata": {
    "colab": {
     "base_uri": "https://localhost:8080/",
     "height": 34
    },
    "colab_type": "code",
    "id": "PZlQ3f9KZlVC",
    "outputId": "cc0c7f65-3b30-4777-b677-1eb5d5a8384f"
   },
   "outputs": [
    {
     "data": {
      "text/plain": [
       "(174649, 100)"
      ]
     },
     "execution_count": 37,
     "metadata": {
      "tags": []
     },
     "output_type": "execute_result"
    }
   ],
   "source": [
    "X_train.shape"
   ]
  },
  {
   "cell_type": "code",
   "execution_count": 5,
   "metadata": {
    "colab": {
     "base_uri": "https://localhost:8080/",
     "height": 1000
    },
    "colab_type": "code",
    "id": "abuqDyqzZlVQ",
    "outputId": "a2afb03b-607c-4165-a089-5f720c064f6b"
   },
   "outputs": [
    {
     "name": "stdout",
     "output_type": "stream",
     "text": [
      "CPU times: user 418 ms, sys: 1.28 s, total: 1.7 s\n",
      "Wall time: 1.71 s\n",
      "CPU times: user 27.2 ms, sys: 766 µs, total: 28 ms\n",
      "Wall time: 29.4 ms\n",
      "CPU times: user 18.5 ms, sys: 51.9 ms, total: 70.4 ms\n",
      "Wall time: 70.5 ms\n",
      "X_train:  (174649, 100, 21)\n",
      "[[[0. 0. 0. ... 0. 0. 0.]\n",
      "  [0. 0. 0. ... 0. 0. 0.]\n",
      "  [1. 0. 0. ... 0. 0. 0.]\n",
      "  ...\n",
      "  [1. 0. 0. ... 0. 0. 0.]\n",
      "  [0. 0. 0. ... 0. 0. 0.]\n",
      "  [0. 0. 0. ... 0. 0. 0.]]\n",
      "\n",
      " [[0. 0. 0. ... 0. 0. 0.]\n",
      "  [0. 0. 0. ... 0. 0. 0.]\n",
      "  [0. 1. 0. ... 0. 0. 0.]\n",
      "  ...\n",
      "  [0. 0. 0. ... 0. 0. 0.]\n",
      "  [0. 0. 0. ... 0. 0. 0.]\n",
      "  [0. 0. 0. ... 0. 0. 0.]]\n",
      "\n",
      " [[0. 0. 0. ... 0. 0. 0.]\n",
      "  [0. 1. 0. ... 0. 0. 0.]\n",
      "  [0. 0. 0. ... 1. 0. 0.]\n",
      "  ...\n",
      "  [0. 0. 0. ... 0. 0. 0.]\n",
      "  [1. 0. 0. ... 0. 0. 0.]\n",
      "  [1. 0. 0. ... 0. 0. 0.]]\n",
      "\n",
      " [[0. 0. 1. ... 0. 0. 0.]\n",
      "  [0. 0. 0. ... 0. 0. 0.]\n",
      "  [0. 0. 0. ... 0. 0. 0.]\n",
      "  ...\n",
      "  [0. 0. 0. ... 0. 1. 0.]\n",
      "  [0. 0. 0. ... 1. 0. 0.]\n",
      "  [0. 0. 0. ... 0. 0. 0.]]\n",
      "\n",
      " [[0. 0. 0. ... 0. 0. 0.]\n",
      "  [0. 0. 0. ... 0. 0. 0.]\n",
      "  [0. 0. 0. ... 0. 0. 0.]\n",
      "  ...\n",
      "  [1. 0. 0. ... 0. 0. 0.]\n",
      "  [1. 0. 0. ... 0. 0. 0.]\n",
      "  [1. 0. 0. ... 0. 0. 0.]]]\n",
      "X_cv:  (7359, 100, 21)\n",
      "[[[0. 0. 0. ... 0. 0. 0.]\n",
      "  [0. 0. 0. ... 0. 0. 0.]\n",
      "  [0. 0. 0. ... 0. 0. 0.]\n",
      "  ...\n",
      "  [1. 0. 0. ... 0. 0. 0.]\n",
      "  [1. 0. 0. ... 0. 0. 0.]\n",
      "  [1. 0. 0. ... 0. 0. 0.]]\n",
      "\n",
      " [[0. 1. 0. ... 0. 0. 0.]\n",
      "  [0. 0. 0. ... 0. 0. 0.]\n",
      "  [0. 1. 0. ... 0. 0. 0.]\n",
      "  ...\n",
      "  [1. 0. 0. ... 0. 0. 0.]\n",
      "  [1. 0. 0. ... 0. 0. 0.]\n",
      "  [1. 0. 0. ... 0. 0. 0.]]\n",
      "\n",
      " [[0. 0. 0. ... 0. 0. 0.]\n",
      "  [0. 0. 0. ... 0. 0. 0.]\n",
      "  [0. 0. 0. ... 0. 0. 0.]\n",
      "  ...\n",
      "  [1. 0. 0. ... 0. 0. 0.]\n",
      "  [1. 0. 0. ... 0. 0. 0.]\n",
      "  [1. 0. 0. ... 0. 0. 0.]]\n",
      "\n",
      " [[0. 0. 0. ... 0. 0. 0.]\n",
      "  [0. 0. 0. ... 0. 0. 0.]\n",
      "  [0. 0. 0. ... 0. 1. 0.]\n",
      "  ...\n",
      "  [1. 0. 0. ... 0. 0. 0.]\n",
      "  [1. 0. 0. ... 0. 0. 0.]\n",
      "  [1. 0. 0. ... 0. 0. 0.]]\n",
      "\n",
      " [[0. 0. 0. ... 0. 0. 0.]\n",
      "  [0. 0. 0. ... 0. 0. 0.]\n",
      "  [1. 0. 0. ... 0. 0. 0.]\n",
      "  ...\n",
      "  [1. 0. 0. ... 0. 0. 0.]\n",
      "  [1. 0. 0. ... 0. 0. 0.]\n",
      "  [1. 0. 0. ... 0. 0. 0.]]]\n",
      "X_test:  (7370, 100, 21)\n",
      "[[[0. 0. 0. ... 0. 0. 0.]\n",
      "  [0. 0. 0. ... 0. 0. 0.]\n",
      "  [0. 0. 0. ... 1. 0. 0.]\n",
      "  ...\n",
      "  [0. 0. 0. ... 0. 0. 0.]\n",
      "  [0. 0. 0. ... 0. 0. 0.]\n",
      "  [0. 0. 0. ... 0. 0. 0.]]\n",
      "\n",
      " [[0. 0. 0. ... 0. 0. 0.]\n",
      "  [0. 0. 1. ... 0. 0. 0.]\n",
      "  [0. 0. 0. ... 0. 0. 0.]\n",
      "  ...\n",
      "  [0. 0. 0. ... 0. 0. 0.]\n",
      "  [0. 0. 1. ... 0. 0. 0.]\n",
      "  [0. 0. 1. ... 0. 0. 0.]]\n",
      "\n",
      " [[0. 0. 0. ... 0. 0. 0.]\n",
      "  [1. 0. 0. ... 0. 0. 0.]\n",
      "  [0. 0. 0. ... 0. 0. 0.]\n",
      "  ...\n",
      "  [0. 0. 1. ... 0. 0. 0.]\n",
      "  [1. 0. 0. ... 0. 0. 0.]\n",
      "  [1. 0. 0. ... 0. 0. 0.]]\n",
      "\n",
      " [[0. 0. 1. ... 0. 0. 0.]\n",
      "  [0. 1. 0. ... 0. 0. 0.]\n",
      "  [0. 0. 0. ... 0. 0. 0.]\n",
      "  ...\n",
      "  [1. 0. 0. ... 0. 0. 0.]\n",
      "  [1. 0. 0. ... 0. 0. 0.]\n",
      "  [1. 0. 0. ... 0. 0. 0.]]\n",
      "\n",
      " [[0. 0. 0. ... 0. 0. 0.]\n",
      "  [1. 0. 0. ... 0. 0. 0.]\n",
      "  [0. 1. 0. ... 0. 0. 0.]\n",
      "  ...\n",
      "  [1. 0. 0. ... 0. 0. 0.]\n",
      "  [1. 0. 0. ... 0. 0. 0.]\n",
      "  [0. 0. 0. ... 0. 0. 0.]]]\n"
     ]
    }
   ],
   "source": [
    "# Now we load the indexed sequences to convert them into one hot encoded vectors\n",
    "X_train        = pd.read_csv(\"X_train.csv\").values\n",
    "%time ohe_train  = one_hot(X_train[:])  \n",
    "X_cv           = pd.read_csv(\"X_cv.csv\").values \n",
    "%time ohe_cv     = one_hot(X_cv[:]) \n",
    "X_test        = pd.read_csv(\"X_test.csv\").values \n",
    "%time ohe_test   = one_hot(X_test[:]) \n",
    "\n",
    "print(\"X_train: \", ohe_train.shape); print(ohe_train[0:5])\n",
    "print(\"X_cv: \", ohe_cv.shape);       print(ohe_cv[0:5])\n",
    "print(\"X_test: \", ohe_test.shape);   print(ohe_test[0:5])"
   ]
  },
  {
   "cell_type": "code",
   "execution_count": 0,
   "metadata": {
    "colab": {},
    "colab_type": "code",
    "id": "Ds13wVQkZlVZ"
   },
   "outputs": [],
   "source": [
    "number_of_unique_classes = len(common_class)"
   ]
  },
  {
   "cell_type": "code",
   "execution_count": 0,
   "metadata": {
    "colab": {},
    "colab_type": "code",
    "id": "7v7E1HC6ZlVg"
   },
   "outputs": [],
   "source": [
    "Y_train = get_categorical(y_train , number_of_unique_classes)      #converting our labelled data into one hot coded class data\n",
    "Y_cv = get_categorical(y_cv , number_of_unique_classes)\n",
    "Y_test = get_categorical(y_test , number_of_unique_classes)"
   ]
  },
  {
   "cell_type": "code",
   "execution_count": 0,
   "metadata": {
    "colab": {},
    "colab_type": "code",
    "id": "zcJLsb_6ZlY3"
   },
   "outputs": [],
   "source": [
    "np.save('Y_train',Y_train)\n",
    "np.save('Y_cv',Y_cv)\n",
    "np.save('Y_test',Y_test)"
   ]
  },
  {
   "cell_type": "code",
   "execution_count": 0,
   "metadata": {
    "colab": {},
    "colab_type": "code",
    "id": "3nBbUiju4mYF"
   },
   "outputs": [],
   "source": []
  },
  {
   "cell_type": "code",
   "execution_count": 0,
   "metadata": {
    "colab": {},
    "colab_type": "code",
    "id": "tgEjCTLGbXc2"
   },
   "outputs": [],
   "source": [
    "Y_train = np.load('Y_train.npy')\n",
    "Y_cv = np.load('Y_cv.npy')\n",
    "Y_test = np.load('Y_test.npy')"
   ]
  },
  {
   "cell_type": "code",
   "execution_count": 0,
   "metadata": {
    "colab": {
     "base_uri": "https://localhost:8080/",
     "height": 34
    },
    "colab_type": "code",
    "id": "vLwFQHoaZlVp",
    "outputId": "aa76a27b-f299-4d30-dace-f056714445d1"
   },
   "outputs": [
    {
     "data": {
      "text/plain": [
       "(174649, 2900)"
      ]
     },
     "execution_count": 44,
     "metadata": {
      "tags": []
     },
     "output_type": "execute_result"
    }
   ],
   "source": [
    "Y_train.shape"
   ]
  },
  {
   "cell_type": "markdown",
   "metadata": {
    "colab_type": "text",
    "id": "0RblbRJ010p3"
   },
   "source": [
    "## Building Models"
   ]
  },
  {
   "cell_type": "markdown",
   "metadata": {
    "colab_type": "text",
    "id": "0Bmc7o1w14LO"
   },
   "source": [
    "__Using LSTM :__ We used LSTM to secure the sequence information by following the above process , we had our data upto the indexed form , we coverted this data into embedded data and perform LSTM operations but couldn't get an accuracy greater than 0.04 . "
   ]
  },
  {
   "cell_type": "markdown",
   "metadata": {
    "colab_type": "text",
    "id": "yPoniDPI2Vza"
   },
   "source": [
    "__Using CNNs :__ We used some simple and complex architectures of CNN but the accuracy didnot exceed 0.05 . As we are dealing with the text data so we are using Conv1D. Because of this we land up building a model which is taken from https://arxiv.org/abs/1606.01781"
   ]
  },
  {
   "cell_type": "code",
   "execution_count": 0,
   "metadata": {
    "colab": {},
    "colab_type": "code",
    "id": "vxeT13SSZlXl"
   },
   "outputs": [],
   "source": [
    "from keras.layers import BatchNormalization,Dropout,Conv1D,Activation,Add,Flatten,Dense\n",
    "from keras.layers import MaxPooling1D\n",
    "from keras.layers.merge import concatenate\n",
    "from keras.initializers import glorot_uniform\n",
    "from keras.layers import ZeroPadding1D\n",
    "from keras.models import Input,Model\n",
    "\n",
    "import warnings \n",
    "warnings.filterwarnings('ignore')"
   ]
  },
  {
   "cell_type": "code",
   "execution_count": 9,
   "metadata": {
    "colab": {
     "base_uri": "https://localhost:8080/",
     "height": 122
    },
    "colab_type": "code",
    "id": "g0S-L-u2ZlXo",
    "outputId": "816438c5-1508-454a-9d25-6ca7cd8b41b1"
   },
   "outputs": [
    {
     "name": "stdout",
     "output_type": "stream",
     "text": [
      "WARNING:tensorflow:From /usr/local/lib/python3.6/dist-packages/keras/backend/tensorflow_backend.py:66: The name tf.get_default_graph is deprecated. Please use tf.compat.v1.get_default_graph instead.\n",
      "\n",
      "WARNING:tensorflow:From /usr/local/lib/python3.6/dist-packages/keras/backend/tensorflow_backend.py:541: The name tf.placeholder is deprecated. Please use tf.compat.v1.placeholder instead.\n",
      "\n",
      "(?, 100, 21)\n"
     ]
    }
   ],
   "source": [
    "input_s = Input(shape=(100,21))\n",
    "print(input_s.shape)"
   ]
  },
  {
   "cell_type": "code",
   "execution_count": 0,
   "metadata": {
    "colab": {},
    "colab_type": "code",
    "id": "7PVqGrk8ZlXs"
   },
   "outputs": [],
   "source": [
    "X  = Conv1D(32, 1 , strides=1,padding='valid', name='conv1d_1', kernel_initializer=glorot_uniform(seed=0))(input_s)\n",
    "\n",
    "X  = MaxPooling1D(pool_size=2)(X)\n",
    "X1 = BatchNormalization(axis=2, name='batch_normalization_1')(X)\n",
    "\n",
    "X2 = Activation('relu',name='activation_1')(X1)\n",
    "\n",
    "X3 = BatchNormalization(axis=2, name='batch_normalization_2')(X2)\n",
    "\n",
    "X4 = Activation('relu',name='activation_2')(X3)\n",
    "\n",
    "X5 = Conv1D(128, 1 , strides=1,padding='valid', name='conv1d_3', kernel_initializer=glorot_uniform(seed=0))(X4)\n",
    "\n",
    "#X5 = MaxPooling1D(pool_size=2,name='pooling2')(X5)\n",
    "# https://github.com/Mrjaggu/pfam_protein_sequence_classification\n",
    "\n",
    "X6 = BatchNormalization(axis=2, name='batch_normalization_3')(X5)\n",
    "\n",
    "X7 = Activation('relu',name='activation_3')(X6)\n",
    "\n",
    "X8 = Conv1D(128 , 1 , strides=1 ,padding='valid', name='conv1d_4' , kernel_initializer=glorot_uniform(seed=0))(X7)\n",
    "X8 = Dropout(0.5,name='d3')(X8)\n",
    "X8 = MaxPooling1D(pool_size=2)(X8)\n",
    "\n",
    "X9 = Conv1D(128,  1 , strides=1 ,padding ='valid',name='conv1d_2',  kernel_initializer=glorot_uniform(seed=0))(X2)\n",
    "X9 = Dropout(0.5,name='d7')(X9)\n",
    "X9 = MaxPooling1D(pool_size=2)(X9)\n",
    "\n",
    "X10 = Add()([X8,X9])\n",
    "\n",
    "X11 = Activation('relu',name='activation_4')(X10)\n",
    "X11 = Dropout(0.2)(X11)\n",
    "\n",
    "X12 = BatchNormalization(axis=2,name='batch_normalization_4')(X11)\n",
    "\n",
    "X13 = Activation('relu',name='activation_5')(X12)\n",
    "\n",
    "X14 = Dropout(0.5,name='dropout_1')(X13)\n",
    "\n",
    "X15 = Flatten(name='flatten_1')(X14)\n",
    "\n",
    "X16 = Dense(2900 ,name='fc' + str(2900), kernel_initializer = glorot_uniform(seed=0))(X15)\n",
    "\n",
    "X17 = Activation('softmax',name='activation_6')(X16)"
   ]
  },
  {
   "cell_type": "code",
   "execution_count": 0,
   "metadata": {
    "colab": {},
    "colab_type": "code",
    "id": "9XAqXU9tZlXx"
   },
   "outputs": [],
   "source": [
    "# Create model\n",
    "model = Model(inputs = input_s, outputs = X17)"
   ]
  },
  {
   "cell_type": "code",
   "execution_count": 14,
   "metadata": {
    "colab": {
     "base_uri": "https://localhost:8080/",
     "height": 105
    },
    "colab_type": "code",
    "id": "PU-Q0aSgZlYA",
    "outputId": "b221429a-ecb7-4009-b3d6-65efd8210780"
   },
   "outputs": [
    {
     "name": "stdout",
     "output_type": "stream",
     "text": [
      "WARNING:tensorflow:From /usr/local/lib/python3.6/dist-packages/keras/optimizers.py:793: The name tf.train.Optimizer is deprecated. Please use tf.compat.v1.train.Optimizer instead.\n",
      "\n",
      "WARNING:tensorflow:From /usr/local/lib/python3.6/dist-packages/keras/backend/tensorflow_backend.py:3576: The name tf.log is deprecated. Please use tf.math.log instead.\n",
      "\n"
     ]
    }
   ],
   "source": [
    "model.compile(optimizer='adam', loss='categorical_crossentropy', metrics=['accuracy'])"
   ]
  },
  {
   "cell_type": "code",
   "execution_count": 0,
   "metadata": {
    "colab": {
     "base_uri": "https://localhost:8080/",
     "height": 1000
    },
    "colab_type": "code",
    "id": "I2Y6xnWiZlYJ",
    "outputId": "db0e96fe-464e-4c03-89c3-945092b853f9"
   },
   "outputs": [
    {
     "name": "stdout",
     "output_type": "stream",
     "text": [
      "Model: \"model_3\"\n",
      "__________________________________________________________________________________________________\n",
      "Layer (type)                    Output Shape         Param #     Connected to                     \n",
      "==================================================================================================\n",
      "input_1 (InputLayer)            (None, 100, 21)      0                                            \n",
      "__________________________________________________________________________________________________\n",
      "conv1d_1 (Conv1D)               (None, 100, 32)      704         input_1[0][0]                    \n",
      "__________________________________________________________________________________________________\n",
      "max_pooling1d_7 (MaxPooling1D)  (None, 50, 32)       0           conv1d_1[0][0]                   \n",
      "__________________________________________________________________________________________________\n",
      "batch_normalization_1 (BatchNor (None, 50, 32)       128         max_pooling1d_7[0][0]            \n",
      "__________________________________________________________________________________________________\n",
      "activation_1 (Activation)       (None, 50, 32)       0           batch_normalization_1[0][0]      \n",
      "__________________________________________________________________________________________________\n",
      "batch_normalization_2 (BatchNor (None, 50, 32)       128         activation_1[0][0]               \n",
      "__________________________________________________________________________________________________\n",
      "activation_2 (Activation)       (None, 50, 32)       0           batch_normalization_2[0][0]      \n",
      "__________________________________________________________________________________________________\n",
      "conv1d_3 (Conv1D)               (None, 50, 128)      4224        activation_2[0][0]               \n",
      "__________________________________________________________________________________________________\n",
      "batch_normalization_3 (BatchNor (None, 50, 128)      512         conv1d_3[0][0]                   \n",
      "__________________________________________________________________________________________________\n",
      "activation_3 (Activation)       (None, 50, 128)      0           batch_normalization_3[0][0]      \n",
      "__________________________________________________________________________________________________\n",
      "conv1d_4 (Conv1D)               (None, 50, 128)      16512       activation_3[0][0]               \n",
      "__________________________________________________________________________________________________\n",
      "conv1d_2 (Conv1D)               (None, 50, 128)      4224        activation_1[0][0]               \n",
      "__________________________________________________________________________________________________\n",
      "d3 (Dropout)                    (None, 50, 128)      0           conv1d_4[0][0]                   \n",
      "__________________________________________________________________________________________________\n",
      "d7 (Dropout)                    (None, 50, 128)      0           conv1d_2[0][0]                   \n",
      "__________________________________________________________________________________________________\n",
      "max_pooling1d_8 (MaxPooling1D)  (None, 25, 128)      0           d3[0][0]                         \n",
      "__________________________________________________________________________________________________\n",
      "max_pooling1d_9 (MaxPooling1D)  (None, 25, 128)      0           d7[0][0]                         \n",
      "__________________________________________________________________________________________________\n",
      "add_3 (Add)                     (None, 25, 128)      0           max_pooling1d_8[0][0]            \n",
      "                                                                 max_pooling1d_9[0][0]            \n",
      "__________________________________________________________________________________________________\n",
      "activation_4 (Activation)       (None, 25, 128)      0           add_3[0][0]                      \n",
      "__________________________________________________________________________________________________\n",
      "dropout_3 (Dropout)             (None, 25, 128)      0           activation_4[0][0]               \n",
      "__________________________________________________________________________________________________\n",
      "batch_normalization_4 (BatchNor (None, 25, 128)      512         dropout_3[0][0]                  \n",
      "__________________________________________________________________________________________________\n",
      "activation_5 (Activation)       (None, 25, 128)      0           batch_normalization_4[0][0]      \n",
      "__________________________________________________________________________________________________\n",
      "dropout_1 (Dropout)             (None, 25, 128)      0           activation_5[0][0]               \n",
      "__________________________________________________________________________________________________\n",
      "flatten_1 (Flatten)             (None, 3200)         0           dropout_1[0][0]                  \n",
      "__________________________________________________________________________________________________\n",
      "fc2900 (Dense)                  (None, 2900)         9282900     flatten_1[0][0]                  \n",
      "__________________________________________________________________________________________________\n",
      "activation_6 (Activation)       (None, 2900)         0           fc2900[0][0]                     \n",
      "==================================================================================================\n",
      "Total params: 9,309,844\n",
      "Trainable params: 9,309,204\n",
      "Non-trainable params: 640\n",
      "__________________________________________________________________________________________________\n"
     ]
    }
   ],
   "source": [
    "model.summary()"
   ]
  },
  {
   "cell_type": "code",
   "execution_count": 0,
   "metadata": {
    "colab": {
     "base_uri": "https://localhost:8080/",
     "height": 34
    },
    "colab_type": "code",
    "id": "Z7PADnaQZlYN",
    "outputId": "764faf4f-956d-4fa3-e211-ff7293254922"
   },
   "outputs": [
    {
     "data": {
      "text/plain": [
       "(174649, 100, 21)"
      ]
     },
     "execution_count": 16,
     "metadata": {
      "tags": []
     },
     "output_type": "execute_result"
    }
   ],
   "source": [
    "ohe_train.shape"
   ]
  },
  {
   "cell_type": "code",
   "execution_count": 15,
   "metadata": {
    "colab": {
     "base_uri": "https://localhost:8080/",
     "height": 1000
    },
    "colab_type": "code",
    "id": "s1kHNZHrZlYR",
    "outputId": "8e8e2fdd-87c2-487a-d650-70d9680f446b"
   },
   "outputs": [
    {
     "name": "stdout",
     "output_type": "stream",
     "text": [
      "WARNING:tensorflow:From /usr/local/lib/python3.6/dist-packages/tensorflow/python/ops/math_grad.py:1250: add_dispatch_support.<locals>.wrapper (from tensorflow.python.ops.array_ops) is deprecated and will be removed in a future version.\n",
      "Instructions for updating:\n",
      "Use tf.where in 2.0, which has the same broadcast rule as np.where\n",
      "Train on 174649 samples, validate on 7359 samples\n",
      "Epoch 1/30\n",
      "174649/174649 [==============================] - 396s 2ms/step - loss: 3.3377 - acc: 0.5061 - val_loss: 1.4807 - val_acc: 0.8199\n",
      "Epoch 2/30\n",
      "174649/174649 [==============================] - 395s 2ms/step - loss: 0.9140 - acc: 0.8232 - val_loss: 0.7934 - val_acc: 0.8886\n",
      "Epoch 3/30\n",
      "174649/174649 [==============================] - 398s 2ms/step - loss: 0.5440 - acc: 0.8861 - val_loss: 0.5734 - val_acc: 0.9083\n",
      "Epoch 4/30\n",
      "174649/174649 [==============================] - 396s 2ms/step - loss: 0.3692 - acc: 0.9168 - val_loss: 0.4908 - val_acc: 0.9152\n",
      "Epoch 5/30\n",
      "174649/174649 [==============================] - 400s 2ms/step - loss: 0.2692 - acc: 0.9357 - val_loss: 0.4554 - val_acc: 0.9213\n",
      "Epoch 6/30\n",
      "174649/174649 [==============================] - 401s 2ms/step - loss: 0.2181 - acc: 0.9460 - val_loss: 0.4464 - val_acc: 0.9228\n",
      "Epoch 7/30\n",
      "174649/174649 [==============================] - 402s 2ms/step - loss: 0.1787 - acc: 0.9540 - val_loss: 0.4380 - val_acc: 0.9258\n",
      "Epoch 8/30\n",
      "174649/174649 [==============================] - 400s 2ms/step - loss: 0.1546 - acc: 0.9600 - val_loss: 0.4262 - val_acc: 0.9287\n",
      "Epoch 9/30\n",
      "174649/174649 [==============================] - 403s 2ms/step - loss: 0.1373 - acc: 0.9635 - val_loss: 0.4254 - val_acc: 0.9284\n",
      "Epoch 10/30\n",
      "174649/174649 [==============================] - 402s 2ms/step - loss: 0.1213 - acc: 0.9672 - val_loss: 0.4299 - val_acc: 0.9289\n",
      "Epoch 11/30\n",
      "174649/174649 [==============================] - 397s 2ms/step - loss: 0.1116 - acc: 0.9694 - val_loss: 0.4186 - val_acc: 0.9319\n",
      "Epoch 12/30\n",
      "174649/174649 [==============================] - 395s 2ms/step - loss: 0.1025 - acc: 0.9714 - val_loss: 0.4245 - val_acc: 0.9278\n",
      "Epoch 13/30\n",
      "174649/174649 [==============================] - 396s 2ms/step - loss: 0.0952 - acc: 0.9737 - val_loss: 0.4254 - val_acc: 0.9311\n",
      "Epoch 14/30\n",
      "174649/174649 [==============================] - 397s 2ms/step - loss: 0.0894 - acc: 0.9753 - val_loss: 0.4277 - val_acc: 0.9284\n",
      "Epoch 15/30\n",
      "174649/174649 [==============================] - 398s 2ms/step - loss: 0.0852 - acc: 0.9765 - val_loss: 0.4082 - val_acc: 0.9336\n",
      "Epoch 16/30\n",
      "174649/174649 [==============================] - 403s 2ms/step - loss: 0.0789 - acc: 0.9775 - val_loss: 0.4100 - val_acc: 0.9340\n",
      "Epoch 17/30\n",
      "174649/174649 [==============================] - 403s 2ms/step - loss: 0.0748 - acc: 0.9788 - val_loss: 0.4129 - val_acc: 0.9323\n",
      "Epoch 18/30\n",
      "174649/174649 [==============================] - 407s 2ms/step - loss: 0.0745 - acc: 0.9791 - val_loss: 0.4027 - val_acc: 0.9334\n",
      "Epoch 19/30\n",
      "174649/174649 [==============================] - 406s 2ms/step - loss: 0.0703 - acc: 0.9799 - val_loss: 0.4079 - val_acc: 0.9353\n",
      "Epoch 20/30\n",
      "174649/174649 [==============================] - 404s 2ms/step - loss: 0.0661 - acc: 0.9812 - val_loss: 0.4010 - val_acc: 0.9365\n",
      "Epoch 21/30\n",
      "174649/174649 [==============================] - 407s 2ms/step - loss: 0.0617 - acc: 0.9824 - val_loss: 0.4086 - val_acc: 0.9356\n",
      "Epoch 22/30\n",
      "174649/174649 [==============================] - 405s 2ms/step - loss: 0.0615 - acc: 0.9826 - val_loss: 0.4035 - val_acc: 0.9338\n",
      "Epoch 23/30\n",
      "174649/174649 [==============================] - 399s 2ms/step - loss: 0.0592 - acc: 0.9830 - val_loss: 0.3993 - val_acc: 0.9355\n",
      "Epoch 24/30\n",
      "174649/174649 [==============================] - 396s 2ms/step - loss: 0.0573 - acc: 0.9835 - val_loss: 0.3941 - val_acc: 0.9378\n",
      "Epoch 25/30\n",
      "174649/174649 [==============================] - 395s 2ms/step - loss: 0.0544 - acc: 0.9843 - val_loss: 0.4004 - val_acc: 0.9369\n",
      "Epoch 26/30\n",
      "174649/174649 [==============================] - 396s 2ms/step - loss: 0.0521 - acc: 0.9848 - val_loss: 0.3981 - val_acc: 0.9372\n",
      "Epoch 27/30\n",
      "174649/174649 [==============================] - 396s 2ms/step - loss: 0.0499 - acc: 0.9856 - val_loss: 0.3987 - val_acc: 0.9378\n",
      "Epoch 28/30\n",
      "174649/174649 [==============================] - 394s 2ms/step - loss: 0.0485 - acc: 0.9863 - val_loss: 0.3994 - val_acc: 0.9357\n",
      "Epoch 29/30\n",
      "174649/174649 [==============================] - 397s 2ms/step - loss: 0.0489 - acc: 0.9860 - val_loss: 0.3989 - val_acc: 0.9359\n",
      "Epoch 30/30\n",
      "174649/174649 [==============================] - 395s 2ms/step - loss: 0.0468 - acc: 0.9864 - val_loss: 0.4097 - val_acc: 0.9368\n"
     ]
    }
   ],
   "source": [
    "history=model.fit(ohe_train, Y_train, epochs=30, batch_size=256 , validation_data=(ohe_cv,Y_cv), verbose=1)"
   ]
  },
  {
   "cell_type": "code",
   "execution_count": 18,
   "metadata": {
    "colab": {
     "base_uri": "https://localhost:8080/",
     "height": 317
    },
    "colab_type": "code",
    "id": "X_-Do2ZyJb_L",
    "outputId": "78ef0c69-a28d-47b5-d303-744bcc7383b8"
   },
   "outputs": [
    {
     "name": "stdout",
     "output_type": "stream",
     "text": [
      "Test score: 0.40879518702181417\n",
      "Test accuracy: 0.9363636363312865\n"
     ]
    },
    {
     "data": {
      "image/png": "[encoded data removed]",
      "text/plain": [
       "<Figure size 432x288 with 1 Axes>"
      ]
     },
     "metadata": {
      "tags": []
     },
     "output_type": "display_data"
    }
   ],
   "source": [
    "score = model.evaluate(ohe_test, Y_test, verbose=0) \n",
    "print('Test score:', score[0]) \n",
    "print('Test accuracy:', score[1])\n",
    "\n",
    "fig,ax = plt.subplots(1,1)\n",
    "ax.set_xlabel('epoch') ; ax.set_ylabel('Categorical Crossentropy Loss')\n",
    "\n",
    "# list of epoch numbers\n",
    "x = list(range(1,30+1))\n",
    "\n",
    "vy = history.history['val_loss']\n",
    "ty = history.history['loss']\n",
    "plt_dynamic(x, vy, ty, ax)"
   ]
  },
  {
   "cell_type": "code",
   "execution_count": 0,
   "metadata": {
    "colab": {},
    "colab_type": "code",
    "id": "8TYHxqhxfkCv"
   },
   "outputs": [],
   "source": [
    "model.save('model.h5')"
   ]
  },
  {
   "cell_type": "code",
   "execution_count": 0,
   "metadata": {
    "colab": {},
    "colab_type": "code",
    "id": "Ymmoe6P_z6fy"
   },
   "outputs": [],
   "source": [
    "np.save('history',history)"
   ]
  },
  {
   "cell_type": "code",
   "execution_count": 0,
   "metadata": {
    "colab": {},
    "colab_type": "code",
    "id": "PDt3hvOq0SVM"
   },
   "outputs": [],
   "source": [
    "history = np.load('history.npy',allow_pickle=True)"
   ]
  },
  {
   "cell_type": "code",
   "execution_count": 0,
   "metadata": {
    "colab": {},
    "colab_type": "code",
    "id": "u6OjRnXX5-Ma"
   },
   "outputs": [],
   "source": [
    "from keras.models import load_model"
   ]
  },
  {
   "cell_type": "code",
   "execution_count": 48,
   "metadata": {
    "colab": {
     "base_uri": "https://localhost:8080/",
     "height": 309
    },
    "colab_type": "code",
    "id": "K5UILF9U6YIM",
    "outputId": "c2e25efb-46dd-44fe-8ff3-73293b51dce3"
   },
   "outputs": [
    {
     "name": "stdout",
     "output_type": "stream",
     "text": [
      "WARNING:tensorflow:From /usr/local/lib/python3.6/dist-packages/keras/backend/tensorflow_backend.py:4432: The name tf.random_uniform is deprecated. Please use tf.random.uniform instead.\n",
      "\n",
      "WARNING:tensorflow:From /usr/local/lib/python3.6/dist-packages/keras/backend/tensorflow_backend.py:4267: The name tf.nn.max_pool is deprecated. Please use tf.nn.max_pool2d instead.\n",
      "\n",
      "WARNING:tensorflow:From /usr/local/lib/python3.6/dist-packages/keras/backend/tensorflow_backend.py:148: The name tf.placeholder_with_default is deprecated. Please use tf.compat.v1.placeholder_with_default instead.\n",
      "\n",
      "WARNING:tensorflow:From /usr/local/lib/python3.6/dist-packages/keras/backend/tensorflow_backend.py:3733: calling dropout (from tensorflow.python.ops.nn_ops) with keep_prob is deprecated and will be removed in a future version.\n",
      "Instructions for updating:\n",
      "Please use `rate` instead of `keep_prob`. Rate should be set to `rate = 1 - keep_prob`.\n",
      "WARNING:tensorflow:From /usr/local/lib/python3.6/dist-packages/keras/backend/tensorflow_backend.py:190: The name tf.get_default_session is deprecated. Please use tf.compat.v1.get_default_session instead.\n",
      "\n",
      "WARNING:tensorflow:From /usr/local/lib/python3.6/dist-packages/keras/optimizers.py:793: The name tf.train.Optimizer is deprecated. Please use tf.compat.v1.train.Optimizer instead.\n",
      "\n",
      "WARNING:tensorflow:From /usr/local/lib/python3.6/dist-packages/tensorflow/python/ops/math_grad.py:1250: add_dispatch_support.<locals>.wrapper (from tensorflow.python.ops.array_ops) is deprecated and will be removed in a future version.\n",
      "Instructions for updating:\n",
      "Use tf.where in 2.0, which has the same broadcast rule as np.where\n"
     ]
    }
   ],
   "source": [
    "model = load_model('model.h5')"
   ]
  },
  {
   "cell_type": "code",
   "execution_count": 21,
   "metadata": {
    "colab": {
     "base_uri": "https://localhost:8080/",
     "height": 34
    },
    "colab_type": "code",
    "id": "pWTINDcUZlYa",
    "outputId": "2e992680-19ff-41c0-9b78-5c7341f5421b"
   },
   "outputs": [
    {
     "name": "stdout",
     "output_type": "stream",
     "text": [
      "7370/7370 [==============================] - 7s 893us/step\n"
     ]
    }
   ],
   "source": [
    "score = model.evaluate(ohe_test, Y_test , verbose=1)"
   ]
  },
  {
   "cell_type": "code",
   "execution_count": 22,
   "metadata": {
    "colab": {
     "base_uri": "https://localhost:8080/",
     "height": 51
    },
    "colab_type": "code",
    "id": "HmKT-V2_ZlYr",
    "outputId": "ba9d35a5-8781-4213-b5d2-b7bcb9a7bb58"
   },
   "outputs": [
    {
     "name": "stdout",
     "output_type": "stream",
     "text": [
      "Test loss: 0.40879518702181417\n",
      "Test accuracy: 0.9363636363312865\n"
     ]
    }
   ],
   "source": [
    "print(\"Test loss:\",score[0])\n",
    "print(\"Test accuracy:\",score[1])"
   ]
  },
  {
   "cell_type": "markdown",
   "metadata": {
    "colab_type": "text",
    "id": "TZY4e36pTsXU"
   },
   "source": [
    "****Following are the steps taken to solve this case study :****"
   ]
  },
  {
   "cell_type": "markdown",
   "metadata": {
    "colab_type": "text",
    "id": "KlL1SCxIT26f"
   },
   "source": [
    "- __Objective :__ The task is to predict the protein family from the given sequence of amino acid domain.\n",
    "- __Data :__ The data that we are provided with is in three different files train, dev and test. Each line has a dataframe .The description of the data can be found in the Data description part which is well explained in the very start of this notebook .We load the data from these three files and store in our dataframes train ,cv and test.  \n",
    "Since the data that we have is way too large with more than a million training data points and 18000 class labels , this can prove out to be computationally infeasible to perform on this much data so we chose just 300k training data points and 10k test and cv data points.  \n",
    "We have sequence data as our input and the family_accession is our class label . The sequence consists of A-Z characters of which 20 are the most frequent .\n",
    "- __Data Preprocessing :__ We find the class labels which are present in all the datasets train, cv and test and choose only those datapoints from train cv and test which have those class labels . We check if there are any duplicate datapoints in our data.  \n",
    "- __Exploratory data Analysis :__ We perform some EDA on our data to get an idea how our data is distributed , we find out that some class labels are very frequent and some are so rare. Our data is imbalanced .  \n",
    "- __Data Preparation/ Featurization :__ Now we find out the characters which are the most frequent and which are the least frequent and arrange them in descending order of their count and store it as a dataframe along with their index. These indices are what we are going to deal with now. We take each sequence , we fill spaces between each character and now we replace each character by the index of that character in the frequency-feature dataframe . We have choosen our sequence to be of maximum length 100 and we ll be taking top 21 features or characters as last 3 characters are very rare.  We perform right padding of our vectors.  \n",
    "Since we have taken top 21 characters now we one hot encode our indices so finally we ll be left with the shape (? , 100 ,21) .  \n",
    "- __Deep Learning Models :__ First we built LSTM models by just using the indices as our vectors converting them to embedded vectors but the accuracy was not so good . Then we built some simple and little complex convolution networks which too didnot perform good . So then we built very deep convolution networks for text classification . We compiled the model and fit on our train data and validated on our CV data ,after 30 epochs the results were impressive and better than all ."
   ]
  },
  {
   "cell_type": "code",
   "execution_count": 0,
   "metadata": {
    "colab": {},
    "colab_type": "code",
    "id": "PmvpLs6BT1dx"
   },
   "outputs": [],
   "source": [
    "from prettytable import PrettyTable"
   ]
  },
  {
   "cell_type": "code",
   "execution_count": 36,
   "metadata": {
    "colab": {
     "base_uri": "https://localhost:8080/",
     "height": 102
    },
    "colab_type": "code",
    "id": "aMsJFqjRzaYM",
    "outputId": "d197a301-f9d8-4519-c9bf-2f1475d88db1"
   },
   "outputs": [
    {
     "name": "stdout",
     "output_type": "stream",
     "text": [
      "+----------+------------+--------+-----------+----------------+---------------+\n",
      "|  Model   | train loss | epochs | test loss | train accuracy | test accuracy |\n",
      "+----------+------------+--------+-----------+----------------+---------------+\n",
      "| Deep CNN |   0.0468   |   30   |   0.4087  |     0.9864     |     0.9363    |\n",
      "+----------+------------+--------+-----------+----------------+---------------+\n"
     ]
    }
   ],
   "source": [
    "x = PrettyTable(['Model','train loss','epochs','test loss','train accuracy','test accuracy'])\n",
    "x.add_row(['Deep CNN',0.0468,30,0.4087 ,0.9864, 0.9363])\n",
    "print(x)"
   ]
  },
  {
   "cell_type": "code",
   "execution_count": 0,
   "metadata": {
    "colab": {},
    "colab_type": "code",
    "id": "K6B2ZJdGzv07"
   },
   "outputs": [],
   "source": []
  }
 ],
 "metadata": {
  "colab": {
   "collapsed_sections": [],
   "name": "PFAM_seed_DL_c.ipynb",
   "provenance": []
  },
  "kernelspec": {
   "display_name": "Python 3",
   "language": "python",
   "name": "python3"
  },
  "language_info": {
   "codemirror_mode": {
    "name": "ipython",
    "version": 3
   },
   "file_extension": ".py",
   "mimetype": "text/x-python",
   "name": "python",
   "nbconvert_exporter": "python",
   "pygments_lexer": "ipython3",
   "version": "3.6.5"
  }
 },
 "nbformat": 4,
 "nbformat_minor": 1
}
